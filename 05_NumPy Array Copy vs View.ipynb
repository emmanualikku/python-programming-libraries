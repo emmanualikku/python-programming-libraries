{
 "cells": [
  {
   "cell_type": "markdown",
   "id": "c690ed1e-55d3-4e44-859f-4165c5183af0",
   "metadata": {},
   "source": [
    "COPY"
   ]
  },
  {
   "cell_type": "code",
   "execution_count": 3,
   "id": "e84f7b91-654c-4d5d-90e1-113604eb61d6",
   "metadata": {},
   "outputs": [
    {
     "name": "stdout",
     "output_type": "stream",
     "text": [
      "[42  2  3  4  5]\n",
      "[1 2 3 4 5]\n"
     ]
    }
   ],
   "source": [
    "import numpy as np\n",
    "\n",
    "arr = np.array([1, 2, 3, 4, 5])\n",
    "x = arr.copy()\n",
    "arr[0] = 42\n",
    "\n",
    "print(arr)\n",
    "print(x)"
   ]
  },
  {
   "cell_type": "markdown",
   "id": "214137b3-0fdd-438c-999a-4bde1ed322b4",
   "metadata": {},
   "source": [
    "VIEW"
   ]
  },
  {
   "cell_type": "code",
   "execution_count": 6,
   "id": "9e9bbad2-6d5e-4413-a04d-cf5ee3e5cfae",
   "metadata": {},
   "outputs": [
    {
     "name": "stdout",
     "output_type": "stream",
     "text": [
      "[42  2  3  4  5]\n",
      "[42  2  3  4  5]\n"
     ]
    }
   ],
   "source": [
    "arr = np.array([1, 2, 3, 4, 5])\n",
    "x = arr.view()\n",
    "arr[0] = 42\n",
    "\n",
    "print(arr)\n",
    "print(x)"
   ]
  },
  {
   "cell_type": "markdown",
   "id": "6be79d8b-117e-4771-a9c5-e7eb16f6d4c9",
   "metadata": {},
   "source": [
    "Make Changes in the VIEW:"
   ]
  },
  {
   "cell_type": "code",
   "execution_count": 9,
   "id": "2ab10628-5d7c-4363-8d13-64a04f00c692",
   "metadata": {},
   "outputs": [
    {
     "name": "stdout",
     "output_type": "stream",
     "text": [
      "[31  2  3  4  5]\n",
      "[31  2  3  4  5]\n"
     ]
    }
   ],
   "source": [
    "arr = np.array([1, 2, 3, 4, 5])\n",
    "x = arr.view()\n",
    "x[0] = 31\n",
    "\n",
    "print(arr)\n",
    "print(x)"
   ]
  },
  {
   "cell_type": "code",
   "execution_count": null,
   "id": "7a21d544-5d0c-4450-b380-dce58783db47",
   "metadata": {},
   "outputs": [],
   "source": []
  }
 ],
 "metadata": {
  "kernelspec": {
   "display_name": "Python [conda env:base] *",
   "language": "python",
   "name": "conda-base-py"
  },
  "language_info": {
   "codemirror_mode": {
    "name": "ipython",
    "version": 3
   },
   "file_extension": ".py",
   "mimetype": "text/x-python",
   "name": "python",
   "nbconvert_exporter": "python",
   "pygments_lexer": "ipython3",
   "version": "3.12.7"
  }
 },
 "nbformat": 4,
 "nbformat_minor": 5
}
