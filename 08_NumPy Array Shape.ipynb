{
 "cells": [
  {
   "cell_type": "code",
   "execution_count": null,
   "id": "81469b8e-8a7e-4d06-a5f5-d5c74abd039d",
   "metadata": {},
   "outputs": [],
   "source": []
  }
 ],
 "metadata": {
  "kernelspec": {
   "display_name": "",
   "name": ""
  },
  "language_info": {
   "name": ""
  }
 },
 "nbformat": 4,
 "nbformat_minor": 5
}
