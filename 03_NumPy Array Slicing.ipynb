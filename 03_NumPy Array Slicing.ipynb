{
 "cells": [
  {
   "cell_type": "markdown",
   "id": "8d1fc7e9-bcd3-4acb-a077-d85e702c8270",
   "metadata": {},
   "source": [
    "Slicing arrays"
   ]
  },
  {
   "cell_type": "code",
   "execution_count": 20,
   "id": "8972656d-a7c4-4204-b8d8-b472285eae02",
   "metadata": {},
   "outputs": [
    {
     "name": "stdout",
     "output_type": "stream",
     "text": [
      "[2 3 4 5]\n"
     ]
    }
   ],
   "source": [
    "import numpy as np\n",
    "\n",
    "arr = np.array([1, 2, 3, 4, 5, 6, 7])\n",
    "\n",
    "print(arr[1:5])"
   ]
  },
  {
   "cell_type": "code",
   "execution_count": 22,
   "id": "ac32a132-e4c8-4b64-b7e4-f389609d8064",
   "metadata": {},
   "outputs": [
    {
     "name": "stdout",
     "output_type": "stream",
     "text": [
      "[5 6 7]\n"
     ]
    }
   ],
   "source": [
    "arr = np.array([1, 2, 3, 4, 5, 6, 7])\n",
    "\n",
    "print(arr[4:])"
   ]
  },
  {
   "cell_type": "code",
   "execution_count": 24,
   "id": "75762d08-e7f8-46b0-9232-49469e06e269",
   "metadata": {},
   "outputs": [
    {
     "name": "stdout",
     "output_type": "stream",
     "text": [
      "[1 2 3 4]\n"
     ]
    }
   ],
   "source": [
    "arr = np.array([1, 2, 3, 4, 5, 6, 7])\n",
    "\n",
    "print(arr[:4])"
   ]
  },
  {
   "cell_type": "markdown",
   "id": "74e50d2f-833d-4057-a774-2b4e681d1a0b",
   "metadata": {},
   "source": [
    "Negative Slicing"
   ]
  },
  {
   "cell_type": "code",
   "execution_count": 27,
   "id": "afe3e87e-d044-4dc4-b1d8-2ac0d32feb58",
   "metadata": {},
   "outputs": [
    {
     "name": "stdout",
     "output_type": "stream",
     "text": [
      "[5 6]\n"
     ]
    }
   ],
   "source": [
    "arr = np.array([1, 2, 3, 4, 5, 6, 7])\n",
    "\n",
    "print(arr[-3:-1])"
   ]
  },
  {
   "cell_type": "markdown",
   "id": "af48c69f-115d-49b3-a111-c1ce6a5c090b",
   "metadata": {},
   "source": [
    "STEP"
   ]
  },
  {
   "cell_type": "code",
   "execution_count": null,
   "id": "da4644fc-61bd-4198-8fdb-cea115c1e74f",
   "metadata": {},
   "outputs": [],
   "source": []
  }
 ],
 "metadata": {
  "kernelspec": {
   "display_name": "Python [conda env:base] *",
   "language": "python",
   "name": "conda-base-py"
  },
  "language_info": {
   "codemirror_mode": {
    "name": "ipython",
    "version": 3
   },
   "file_extension": ".py",
   "mimetype": "text/x-python",
   "name": "python",
   "nbconvert_exporter": "python",
   "pygments_lexer": "ipython3",
   "version": "3.12.7"
  }
 },
 "nbformat": 4,
 "nbformat_minor": 5
}
