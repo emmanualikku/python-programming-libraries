{
 "cells": [
  {
   "cell_type": "code",
   "execution_count": 5,
   "id": "b9b22cc3-17d5-489a-b924-de49251dedc8",
   "metadata": {},
   "outputs": [],
   "source": [
    "###Numpy - Numerical Python###\n"
   ]
  },
  {
   "cell_type": "code",
   "execution_count": 6,
   "id": "2ae07d7e-b1a0-4c4b-b47b-5889ec3499ec",
   "metadata": {},
   "outputs": [],
   "source": [
    "import numpy as np"
   ]
  },
  {
   "cell_type": "code",
   "execution_count": 8,
   "id": "803daa1f-f176-4c65-a3e6-a9e768639a50",
   "metadata": {},
   "outputs": [
    {
     "name": "stdout",
     "output_type": "stream",
     "text": [
      "15\n",
      "<class 'numpy.ndarray'>\n",
      "Dimension :  0\n"
     ]
    }
   ],
   "source": [
    "arr0 = np.array(15)\n",
    "print(arr0)\n",
    "print(type(arr0))\n",
    "print(\"Dimension : \",arr0.ndim)"
   ]
  },
  {
   "cell_type": "code",
   "execution_count": 11,
   "id": "75251bb9-8c6a-48f6-a798-46bb9c2b33b5",
   "metadata": {},
   "outputs": [
    {
     "name": "stdout",
     "output_type": "stream",
     "text": [
      "[15 16 17 18 19]\n",
      "<class 'numpy.ndarray'>\n",
      "Dimension :  1\n"
     ]
    }
   ],
   "source": [
    "arr1 = np.array([15,16,17,18,19])\n",
    "print(arr1)\n",
    "print(type(arr1))\n",
    "print(\"Dimension : \",arr1.ndim)"
   ]
  },
  {
   "cell_type": "code",
   "execution_count": 34,
   "id": "94501ace-a137-4c51-9b4d-f9176fcd7133",
   "metadata": {},
   "outputs": [
    {
     "name": "stdout",
     "output_type": "stream",
     "text": [
      "[[15 16 17 18 19]\n",
      " [15 16 17 18 19]\n",
      " [15 16 17 18 19]]\n",
      "<class 'numpy.ndarray'>\n",
      "Dimension :  2\n"
     ]
    }
   ],
   "source": [
    "arr2 = np.array([[15,16,17,18,19],[15,16,17,18,19],[15,16,17,18,19]])\n",
    "print(arr2)\n",
    "print(type(arr2))\n",
    "print(\"Dimension : \",arr2.ndim)"
   ]
  },
  {
   "cell_type": "code",
   "execution_count": 13,
   "id": "f53ff7ab-4c3d-45be-bd29-169a6a499871",
   "metadata": {},
   "outputs": [
    {
     "name": "stdout",
     "output_type": "stream",
     "text": [
      "[[[15 16 17 18 19]\n",
      "  [15 16 17 18 19]]\n",
      "\n",
      " [[15 16 17 18 19]\n",
      "  [15 16 17 18 19]]]\n",
      "<class 'numpy.ndarray'>\n",
      "Dimension :  3\n"
     ]
    }
   ],
   "source": [
    "arr3 = np.array([[[15,16,17,18,19],[15,16,17,18,19]],[[15,16,17,18,19],[15,16,17,18,19]]])\n",
    "print(arr3)\n",
    "print(type(arr3))\n",
    "print(\"Dimension : \",arr3.ndim)"
   ]
  },
  {
   "cell_type": "code",
   "execution_count": 14,
   "id": "a0b7598f-092b-408e-8e5d-d2ac722e498f",
   "metadata": {},
   "outputs": [],
   "source": [
    "###Index and Slicing of Arrays###"
   ]
  },
  {
   "cell_type": "code",
   "execution_count": 16,
   "id": "e6eb31fe-ad44-430a-ad89-979dcb7ffcff",
   "metadata": {},
   "outputs": [
    {
     "data": {
      "text/plain": [
       "array(15)"
      ]
     },
     "execution_count": 16,
     "metadata": {},
     "output_type": "execute_result"
    }
   ],
   "source": [
    "arr0"
   ]
  },
  {
   "cell_type": "code",
   "execution_count": 17,
   "id": "5f70925f-84ea-4d14-97f8-602ae68d3a5b",
   "metadata": {},
   "outputs": [
    {
     "data": {
      "text/plain": [
       "array([15, 16, 17, 18, 19])"
      ]
     },
     "execution_count": 17,
     "metadata": {},
     "output_type": "execute_result"
    }
   ],
   "source": [
    "arr1"
   ]
  },
  {
   "cell_type": "code",
   "execution_count": 21,
   "id": "11c21e2d-6c54-4783-8cfd-a66051f3c435",
   "metadata": {},
   "outputs": [
    {
     "data": {
      "text/plain": [
       "array([16, 17, 18])"
      ]
     },
     "execution_count": 21,
     "metadata": {},
     "output_type": "execute_result"
    }
   ],
   "source": [
    "arr1[1:4]"
   ]
  },
  {
   "cell_type": "code",
   "execution_count": 22,
   "id": "46d35acd-27b1-4402-a47d-cf3c76c18622",
   "metadata": {},
   "outputs": [
    {
     "data": {
      "text/plain": [
       "array([16, 19])"
      ]
     },
     "execution_count": 22,
     "metadata": {},
     "output_type": "execute_result"
    }
   ],
   "source": [
    "arr1[1:5:3]"
   ]
  },
  {
   "cell_type": "code",
   "execution_count": 35,
   "id": "eba6384d-e4f0-40ff-b063-b7515133ed95",
   "metadata": {},
   "outputs": [
    {
     "data": {
      "text/plain": [
       "array([[15, 16, 17, 18, 19],\n",
       "       [15, 16, 17, 18, 19],\n",
       "       [15, 16, 17, 18, 19]])"
      ]
     },
     "execution_count": 35,
     "metadata": {},
     "output_type": "execute_result"
    }
   ],
   "source": [
    "arr2"
   ]
  },
  {
   "cell_type": "code",
   "execution_count": 25,
   "id": "a8f52bd5-d9fa-4ad5-b229-d8760393b264",
   "metadata": {},
   "outputs": [
    {
     "data": {
      "text/plain": [
       "17"
      ]
     },
     "execution_count": 25,
     "metadata": {},
     "output_type": "execute_result"
    }
   ],
   "source": [
    "arr2[1,2]"
   ]
  },
  {
   "cell_type": "code",
   "execution_count": 36,
   "id": "ead2c170-aafe-4263-99ce-324e112d1893",
   "metadata": {},
   "outputs": [
    {
     "data": {
      "text/plain": [
       "array([[17, 18],\n",
       "       [17, 18]])"
      ]
     },
     "execution_count": 36,
     "metadata": {},
     "output_type": "execute_result"
    }
   ],
   "source": [
    "arr2[0:2,2:4]"
   ]
  },
  {
   "cell_type": "code",
   "execution_count": 29,
   "id": "787f187a-ec28-48aa-be95-afab68276450",
   "metadata": {},
   "outputs": [
    {
     "data": {
      "text/plain": [
       "array([[18],\n",
       "       [18]])"
      ]
     },
     "execution_count": 29,
     "metadata": {},
     "output_type": "execute_result"
    }
   ],
   "source": [
    "arr2[:2,3:4]"
   ]
  },
  {
   "cell_type": "code",
   "execution_count": 43,
   "id": "4178cd3a-2d0e-4e8e-b1d3-817eeef510bd",
   "metadata": {},
   "outputs": [
    {
     "data": {
      "text/plain": [
       "array([[16],\n",
       "       [16],\n",
       "       [16]])"
      ]
     },
     "execution_count": 43,
     "metadata": {},
     "output_type": "execute_result"
    }
   ],
   "source": [
    "arr2[:,1:4:3]"
   ]
  },
  {
   "cell_type": "code",
   "execution_count": 38,
   "id": "d66de5ca-83e5-406c-9cbf-f9a125a5cfd9",
   "metadata": {},
   "outputs": [
    {
     "data": {
      "text/plain": [
       "array([[15, 16, 17, 18, 19],\n",
       "       [15, 16, 17, 18, 19],\n",
       "       [15, 16, 17, 18, 19]])"
      ]
     },
     "execution_count": 38,
     "metadata": {},
     "output_type": "execute_result"
    }
   ],
   "source": [
    "arr2"
   ]
  },
  {
   "cell_type": "code",
   "execution_count": 44,
   "id": "39515a47-69f4-495b-a8fb-1c8c45577644",
   "metadata": {},
   "outputs": [
    {
     "data": {
      "text/plain": [
       "array([], dtype=int32)"
      ]
     },
     "execution_count": 44,
     "metadata": {},
     "output_type": "execute_result"
    }
   ],
   "source": [
    "arr2[1,4:2:2]"
   ]
  },
  {
   "cell_type": "code",
   "execution_count": null,
   "id": "7e08d533-1a78-4abc-b5ac-8da62267f11d",
   "metadata": {},
   "outputs": [],
   "source": []
  }
 ],
 "metadata": {
  "kernelspec": {
   "display_name": "Python 3 (ipykernel)",
   "language": "python",
   "name": "python3"
  },
  "language_info": {
   "codemirror_mode": {
    "name": "ipython",
    "version": 3
   },
   "file_extension": ".py",
   "mimetype": "text/x-python",
   "name": "python",
   "nbconvert_exporter": "python",
   "pygments_lexer": "ipython3",
   "version": "3.12.7"
  }
 },
 "nbformat": 4,
 "nbformat_minor": 5
}
