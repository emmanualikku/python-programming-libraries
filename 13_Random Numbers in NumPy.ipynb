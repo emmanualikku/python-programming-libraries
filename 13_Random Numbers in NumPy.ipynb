{
 "cells": [
  {
   "cell_type": "markdown",
   "id": "5ed280d2-45f8-46eb-96cb-191497aba752",
   "metadata": {},
   "source": [
    "Generate Random Number"
   ]
  },
  {
   "cell_type": "code",
   "execution_count": 11,
   "id": "bf404a16-732c-43bd-aac0-a6eecbae2f83",
   "metadata": {},
   "outputs": [
    {
     "name": "stdout",
     "output_type": "stream",
     "text": [
      "1\n"
     ]
    }
   ],
   "source": [
    "from numpy import random\n",
    "\n",
    "x = random.randint(100)\n",
    "\n",
    "print(x)"
   ]
  },
  {
   "cell_type": "markdown",
   "id": "e520ecfa-0794-420e-b14f-f35d93d483b4",
   "metadata": {},
   "source": [
    "Generate Random Float"
   ]
  },
  {
   "cell_type": "code",
   "execution_count": 14,
   "id": "7e3f96ee-e13b-46a8-b22b-c8070b245c2f",
   "metadata": {},
   "outputs": [
    {
     "name": "stdout",
     "output_type": "stream",
     "text": [
      "0.7088123768871241\n"
     ]
    }
   ],
   "source": [
    "x = random.rand()\n",
    "print(x)"
   ]
  },
  {
   "cell_type": "markdown",
   "id": "fbb21487-e6a1-4449-a653-8d30493d7a89",
   "metadata": {},
   "source": [
    "Generate Random Array"
   ]
  },
  {
   "cell_type": "code",
   "execution_count": 17,
   "id": "9adf2a9b-db4e-42b5-b1eb-e569f35ee4d2",
   "metadata": {},
   "outputs": [
    {
     "name": "stdout",
     "output_type": "stream",
     "text": [
      "[12 64 71 53 13]\n"
     ]
    }
   ],
   "source": [
    "x=random.randint(100, size=(5))\n",
    "print(x)"
   ]
  },
  {
   "cell_type": "code",
   "execution_count": 19,
   "id": "e44e62da-aa93-4d58-98b5-814f757969be",
   "metadata": {},
   "outputs": [
    {
     "name": "stdout",
     "output_type": "stream",
     "text": [
      "[[43 17 32  7 95]\n",
      " [21 74 63 58 27]\n",
      " [ 9 70 11 74  5]]\n"
     ]
    }
   ],
   "source": [
    "x = random.randint(100, size=(3, 5))\n",
    "print(x)"
   ]
  },
  {
   "cell_type": "code",
   "execution_count": 21,
   "id": "37d5f2fa-30b6-4ee1-abc6-c0f31330db50",
   "metadata": {},
   "outputs": [
    {
     "name": "stdout",
     "output_type": "stream",
     "text": [
      "[0.90344797 0.74435431 0.81263283 0.46983849 0.83044609]\n"
     ]
    }
   ],
   "source": [
    "x = random.rand(5)\n",
    "print(x)"
   ]
  },
  {
   "cell_type": "code",
   "execution_count": 25,
   "id": "b46a8747-9cd1-4860-8369-9d1028c82659",
   "metadata": {},
   "outputs": [
    {
     "name": "stdout",
     "output_type": "stream",
     "text": [
      "[[0.25605957 0.81090356 0.86609215 0.76106077 0.27541842]\n",
      " [0.21139326 0.47504415 0.27329117 0.02444811 0.89355504]\n",
      " [0.75947935 0.97879673 0.06719304 0.22271793 0.46411689]]\n"
     ]
    }
   ],
   "source": [
    "x = random.rand(3, 5)\n",
    "print(x)"
   ]
  },
  {
   "cell_type": "markdown",
   "id": "ba978fba-7bfb-4cc1-b59f-d849b64121c9",
   "metadata": {},
   "source": [
    "Generate Random Number From Array"
   ]
  },
  {
   "cell_type": "code",
   "execution_count": 28,
   "id": "98ec1913-1bfb-4e28-9b70-6a40b46cff2f",
   "metadata": {},
   "outputs": [
    {
     "name": "stdout",
     "output_type": "stream",
     "text": [
      "9\n"
     ]
    }
   ],
   "source": [
    "x = random.choice([3, 5, 7, 9])\n",
    "print(x)"
   ]
  },
  {
   "cell_type": "code",
   "execution_count": 30,
   "id": "08f356f4-8c29-4611-8ce1-f0890b28439b",
   "metadata": {},
   "outputs": [
    {
     "name": "stdout",
     "output_type": "stream",
     "text": [
      "[[5 3 9 5 7]\n",
      " [9 9 3 5 3]\n",
      " [5 5 3 7 5]]\n"
     ]
    }
   ],
   "source": [
    "x = random.choice([3, 5, 7, 9], size=(3, 5))\n",
    "print(x)"
   ]
  },
  {
   "cell_type": "code",
   "execution_count": null,
   "id": "2ec76336-d88a-4965-ab2a-272f749b42a2",
   "metadata": {},
   "outputs": [],
   "source": []
  }
 ],
 "metadata": {
  "kernelspec": {
   "display_name": "Python [conda env:base] *",
   "language": "python",
   "name": "conda-base-py"
  },
  "language_info": {
   "codemirror_mode": {
    "name": "ipython",
    "version": 3
   },
   "file_extension": ".py",
   "mimetype": "text/x-python",
   "name": "python",
   "nbconvert_exporter": "python",
   "pygments_lexer": "ipython3",
   "version": "3.12.7"
  }
 },
 "nbformat": 4,
 "nbformat_minor": 5
}
